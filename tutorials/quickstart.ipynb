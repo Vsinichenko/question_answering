{
 "cells": [
  {
   "cell_type": "raw",
   "source": [
    "from langchain.llms import "
   ],
   "metadata": {
    "collapsed": false
   },
   "id": "a66a91e84a796675"
  }
 ],
 "metadata": {
  "kernelspec": {
   "display_name": "Python 3",
   "language": "python",
   "name": "python3"
  },
  "language_info": {
   "codemirror_mode": {
    "name": "ipython",
    "version": 2
   },
   "file_extension": ".py",
   "mimetype": "text/x-python",
   "name": "python",
   "nbconvert_exporter": "python",
   "pygments_lexer": "ipython2",
   "version": "2.7.6"
  }
 },
 "nbformat": 4,
 "nbformat_minor": 5
}
